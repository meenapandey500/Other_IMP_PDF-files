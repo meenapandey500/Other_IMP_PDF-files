{
  "nbformat": 4,
  "nbformat_minor": 0,
  "metadata": {
    "colab": {
      "name": "Activation function demo.ipynb",
      "provenance": []
    },
    "kernelspec": {
      "name": "python3",
      "display_name": "Python 3"
    }
  },
  "cells": [
    {
      "cell_type": "code",
      "metadata": {
        "id": "reKMwHdR9EMh"
      },
      "source": [
        "#Practical Demo of Activation function \r\n",
        "#1. Sigmoid function :\r\n",
        "#2. Tanh function\r\n",
        "#3. Relu : rectified linear unit \r\n",
        "#4. softmax"
      ],
      "execution_count": null,
      "outputs": []
    },
    {
      "cell_type": "code",
      "metadata": {
        "id": "HbkwEF51-V1y"
      },
      "source": [
        "import numpy as np\r\n",
        "import matplotlib.pyplot as plt"
      ],
      "execution_count": 1,
      "outputs": []
    },
    {
      "cell_type": "code",
      "metadata": {
        "id": "LtTgY_W_-cT3"
      },
      "source": [
        "#sigmoid function : formula : 1/(1+e**(-x)) e means exponent\r\n",
        "#we create a function  \r\n",
        "def sigmoid(X): #user defined function , It is passing argument and return value\r\n",
        "  Y=1/(1+np.exp(-X))  \r\n",
        "  return Y "
      ],
      "execution_count": 4,
      "outputs": []
    },
    {
      "cell_type": "code",
      "metadata": {
        "colab": {
          "base_uri": "https://localhost:8080/"
        },
        "id": "eEaMPca3AUrk",
        "outputId": "2e82c338-623d-4d08-cbfb-68ca0284fddd"
      },
      "source": [
        "#main program\r\n",
        "#create a numpy array 1D\r\n",
        "X=np.arange(-100,101) #start=-100 stop=101-1=100  step=+1 by default\r\n",
        "print(X)  #input features"
      ],
      "execution_count": 2,
      "outputs": [
        {
          "output_type": "stream",
          "text": [
            "[-100  -99  -98  -97  -96  -95  -94  -93  -92  -91  -90  -89  -88  -87\n",
            "  -86  -85  -84  -83  -82  -81  -80  -79  -78  -77  -76  -75  -74  -73\n",
            "  -72  -71  -70  -69  -68  -67  -66  -65  -64  -63  -62  -61  -60  -59\n",
            "  -58  -57  -56  -55  -54  -53  -52  -51  -50  -49  -48  -47  -46  -45\n",
            "  -44  -43  -42  -41  -40  -39  -38  -37  -36  -35  -34  -33  -32  -31\n",
            "  -30  -29  -28  -27  -26  -25  -24  -23  -22  -21  -20  -19  -18  -17\n",
            "  -16  -15  -14  -13  -12  -11  -10   -9   -8   -7   -6   -5   -4   -3\n",
            "   -2   -1    0    1    2    3    4    5    6    7    8    9   10   11\n",
            "   12   13   14   15   16   17   18   19   20   21   22   23   24   25\n",
            "   26   27   28   29   30   31   32   33   34   35   36   37   38   39\n",
            "   40   41   42   43   44   45   46   47   48   49   50   51   52   53\n",
            "   54   55   56   57   58   59   60   61   62   63   64   65   66   67\n",
            "   68   69   70   71   72   73   74   75   76   77   78   79   80   81\n",
            "   82   83   84   85   86   87   88   89   90   91   92   93   94   95\n",
            "   96   97   98   99  100]\n"
          ],
          "name": "stdout"
        }
      ]
    },
    {
      "cell_type": "code",
      "metadata": {
        "colab": {
          "base_uri": "https://localhost:8080/",
          "height": 1000
        },
        "id": "CpST2de7BhAv",
        "outputId": "358bcf02-5817-4f1b-aa91-459eec95fd00"
      },
      "source": [
        "#call function\r\n",
        "Y=sigmoid(X)\r\n",
        "print(Y)\r\n",
        "plt.plot(X,Y) #X independent variable and Y target means output\r\n",
        "plt.xlabel(\"Value of X\")\r\n",
        "plt.ylabel(\"Value of Y\")\r\n",
        "plt.title(\"Sigmoid Activation Function\")\r\n",
        "plt.show()"
      ],
      "execution_count": 8,
      "outputs": [
        {
          "output_type": "stream",
          "text": [
            "[3.72007598e-44 1.01122149e-43 2.74878501e-43 7.47197234e-43\n",
            " 2.03109266e-42 5.52108228e-42 1.50078576e-41 4.07955867e-41\n",
            " 1.10893902e-40 3.01440879e-40 8.19401262e-40 2.22736356e-39\n",
            " 6.05460190e-39 1.64581143e-38 4.47377931e-38 1.21609930e-37\n",
            " 3.30570063e-37 8.98582594e-37 2.44260074e-36 6.63967720e-36\n",
            " 1.80485139e-35 4.90609473e-35 1.33361482e-34 3.62514092e-34\n",
            " 9.85415469e-34 2.67863696e-33 7.28129018e-33 1.97925988e-32\n",
            " 5.38018616e-32 1.46248623e-31 3.97544974e-31 1.08063928e-30\n",
            " 2.93748211e-30 7.98490425e-30 2.17052201e-29 5.90009054e-29\n",
            " 1.60381089e-28 4.35961000e-28 1.18506486e-27 3.22134029e-27\n",
            " 8.75651076e-27 2.38026641e-26 6.47023493e-26 1.75879220e-25\n",
            " 4.78089288e-25 1.29958143e-24 3.53262857e-24 9.60268005e-24\n",
            " 2.61027907e-23 7.09547416e-23 1.92874985e-22 5.24288566e-22\n",
            " 1.42516408e-21 3.87399763e-21 1.05306174e-20 2.86251858e-20\n",
            " 7.78113224e-20 2.11513104e-19 5.74952226e-19 1.56288219e-18\n",
            " 4.24835426e-18 1.15482242e-17 3.13913279e-17 8.53304763e-17\n",
            " 2.31952283e-16 6.30511676e-16 1.71390843e-15 4.65888615e-15\n",
            " 1.26641655e-14 3.44247711e-14 9.35762297e-14 2.54366565e-13\n",
            " 6.91440011e-13 1.87952882e-12 5.10908903e-12 1.38879439e-11\n",
            " 3.77513454e-11 1.02618796e-10 2.78946809e-10 7.58256042e-10\n",
            " 2.06115362e-09 5.60279641e-09 1.52299795e-08 4.13993755e-08\n",
            " 1.12535162e-07 3.05902227e-07 8.31528028e-07 2.26032430e-06\n",
            " 6.14417460e-06 1.67014218e-05 4.53978687e-05 1.23394576e-04\n",
            " 3.35350130e-04 9.11051194e-04 2.47262316e-03 6.69285092e-03\n",
            " 1.79862100e-02 4.74258732e-02 1.19202922e-01 2.68941421e-01\n",
            " 5.00000000e-01 7.31058579e-01 8.80797078e-01 9.52574127e-01\n",
            " 9.82013790e-01 9.93307149e-01 9.97527377e-01 9.99088949e-01\n",
            " 9.99664650e-01 9.99876605e-01 9.99954602e-01 9.99983299e-01\n",
            " 9.99993856e-01 9.99997740e-01 9.99999168e-01 9.99999694e-01\n",
            " 9.99999887e-01 9.99999959e-01 9.99999985e-01 9.99999994e-01\n",
            " 9.99999998e-01 9.99999999e-01 1.00000000e+00 1.00000000e+00\n",
            " 1.00000000e+00 1.00000000e+00 1.00000000e+00 1.00000000e+00\n",
            " 1.00000000e+00 1.00000000e+00 1.00000000e+00 1.00000000e+00\n",
            " 1.00000000e+00 1.00000000e+00 1.00000000e+00 1.00000000e+00\n",
            " 1.00000000e+00 1.00000000e+00 1.00000000e+00 1.00000000e+00\n",
            " 1.00000000e+00 1.00000000e+00 1.00000000e+00 1.00000000e+00\n",
            " 1.00000000e+00 1.00000000e+00 1.00000000e+00 1.00000000e+00\n",
            " 1.00000000e+00 1.00000000e+00 1.00000000e+00 1.00000000e+00\n",
            " 1.00000000e+00 1.00000000e+00 1.00000000e+00 1.00000000e+00\n",
            " 1.00000000e+00 1.00000000e+00 1.00000000e+00 1.00000000e+00\n",
            " 1.00000000e+00 1.00000000e+00 1.00000000e+00 1.00000000e+00\n",
            " 1.00000000e+00 1.00000000e+00 1.00000000e+00 1.00000000e+00\n",
            " 1.00000000e+00 1.00000000e+00 1.00000000e+00 1.00000000e+00\n",
            " 1.00000000e+00 1.00000000e+00 1.00000000e+00 1.00000000e+00\n",
            " 1.00000000e+00 1.00000000e+00 1.00000000e+00 1.00000000e+00\n",
            " 1.00000000e+00 1.00000000e+00 1.00000000e+00 1.00000000e+00\n",
            " 1.00000000e+00 1.00000000e+00 1.00000000e+00 1.00000000e+00\n",
            " 1.00000000e+00 1.00000000e+00 1.00000000e+00 1.00000000e+00\n",
            " 1.00000000e+00 1.00000000e+00 1.00000000e+00 1.00000000e+00\n",
            " 1.00000000e+00 1.00000000e+00 1.00000000e+00 1.00000000e+00\n",
            " 1.00000000e+00]\n"
          ],
          "name": "stdout"
        },
        {
          "output_type": "display_data",
          "data": {
            "image/png": "[encoded data removed]",
            "text/plain": [
              "<Figure size 432x288 with 1 Axes>"
            ]
          },
          "metadata": {
            "tags": [],
            "needs_background": "light"
          }
        }
      ]
    }
  ]
}