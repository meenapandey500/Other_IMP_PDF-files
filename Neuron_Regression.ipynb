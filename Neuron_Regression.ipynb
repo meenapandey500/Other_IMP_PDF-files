{
  "nbformat": 4,
  "nbformat_minor": 0,
  "metadata": {
    "kernelspec": {
      "display_name": "Python 3",
      "language": "python",
      "name": "python3"
    },
    "language_info": {
      "codemirror_mode": {
        "name": "ipython",
        "version": 3
      },
      "file_extension": ".py",
      "mimetype": "text/x-python",
      "name": "python",
      "nbconvert_exporter": "python",
      "pygments_lexer": "ipython3",
      "version": "3.7.4"
    },
    "colab": {
      "name": "Neuron Regression.ipynb",
      "provenance": []
    }
  },
  "cells": [
    {
      "cell_type": "code",
      "metadata": {
        "id": "zyWnPI2Tgdxl"
      },
      "source": [
        "import numpy as np\n",
        "import pandas as pd\n",
        "import matplotlib.pyplot as plt\n",
        "\n",
        "from sklearn.model_selection import train_test_split\n",
        "\n",
        "import tensorflow as tf\n",
        "\n"
      ],
      "execution_count": null,
      "outputs": []
    },
    {
      "cell_type": "code",
      "metadata": {
        "id": "jEyegbizgdxm"
      },
      "source": [
        "X = np.arange(1,51)"
      ],
      "execution_count": null,
      "outputs": []
    },
    {
      "cell_type": "code",
      "metadata": {
        "id": "Xna87lQkgdxm"
      },
      "source": [
        "y = np.arange(10,501,10)"
      ],
      "execution_count": null,
      "outputs": []
    },
    {
      "cell_type": "code",
      "metadata": {
        "colab": {
          "base_uri": "https://localhost:8080/"
        },
        "id": "3ossd8Fpgdxn",
        "outputId": "da49db37-6f42-4605-fffa-4f520c516c0f"
      },
      "source": [
        "X"
      ],
      "execution_count": null,
      "outputs": [
        {
          "output_type": "execute_result",
          "data": {
            "text/plain": [
              "array([ 1,  2,  3,  4,  5,  6,  7,  8,  9, 10, 11, 12, 13, 14, 15, 16, 17,\n",
              "       18, 19, 20, 21, 22, 23, 24, 25, 26, 27, 28, 29, 30, 31, 32, 33, 34,\n",
              "       35, 36, 37, 38, 39, 40, 41, 42, 43, 44, 45, 46, 47, 48, 49, 50])"
            ]
          },
          "metadata": {
            "tags": []
          },
          "execution_count": 17
        }
      ]
    },
    {
      "cell_type": "code",
      "metadata": {
        "colab": {
          "base_uri": "https://localhost:8080/"
        },
        "id": "uMUryAx6gdxo",
        "outputId": "e9bf48d8-4180-4a55-d28a-e8833eaad580"
      },
      "source": [
        "y"
      ],
      "execution_count": null,
      "outputs": [
        {
          "output_type": "execute_result",
          "data": {
            "text/plain": [
              "array([ 10,  20,  30,  40,  50,  60,  70,  80,  90, 100, 110, 120, 130,\n",
              "       140, 150, 160, 170, 180, 190, 200, 210, 220, 230, 240, 250, 260,\n",
              "       270, 280, 290, 300, 310, 320, 330, 340, 350, 360, 370, 380, 390,\n",
              "       400, 410, 420, 430, 440, 450, 460, 470, 480, 490, 500])"
            ]
          },
          "metadata": {
            "tags": []
          },
          "execution_count": 18
        }
      ]
    },
    {
      "cell_type": "code",
      "metadata": {
        "id": "q-w32J6vgdxq"
      },
      "source": [
        "#scaling\n",
        "X_mean = np.mean(X)"
      ],
      "execution_count": null,
      "outputs": []
    },
    {
      "cell_type": "code",
      "metadata": {
        "id": "KibfPvtugdxq"
      },
      "source": [
        "X_std = np.std(X)"
      ],
      "execution_count": null,
      "outputs": []
    },
    {
      "cell_type": "code",
      "metadata": {
        "id": "0TwuVna5gdxq"
      },
      "source": [
        "X =  (X - X_mean) / X_std"
      ],
      "execution_count": null,
      "outputs": []
    },
    {
      "cell_type": "code",
      "metadata": {
        "colab": {
          "base_uri": "https://localhost:8080/"
        },
        "id": "5sfWcUZagdxq",
        "outputId": "a91ecb71-7c22-45a3-906b-1275c5d10737"
      },
      "source": [
        "X"
      ],
      "execution_count": null,
      "outputs": [
        {
          "output_type": "execute_result",
          "data": {
            "text/plain": [
              "array([-1.69774938, -1.62845348, -1.55915759, -1.4898617 , -1.4205658 ,\n",
              "       -1.35126991, -1.28197402, -1.21267813, -1.14338223, -1.07408634,\n",
              "       -1.00479045, -0.93549455, -0.86619866, -0.79690277, -0.72760688,\n",
              "       -0.65831098, -0.58901509, -0.5197192 , -0.4504233 , -0.38112741,\n",
              "       -0.31183152, -0.24253563, -0.17323973, -0.10394384, -0.03464795,\n",
              "        0.03464795,  0.10394384,  0.17323973,  0.24253563,  0.31183152,\n",
              "        0.38112741,  0.4504233 ,  0.5197192 ,  0.58901509,  0.65831098,\n",
              "        0.72760688,  0.79690277,  0.86619866,  0.93549455,  1.00479045,\n",
              "        1.07408634,  1.14338223,  1.21267813,  1.28197402,  1.35126991,\n",
              "        1.4205658 ,  1.4898617 ,  1.55915759,  1.62845348,  1.69774938])"
            ]
          },
          "metadata": {
            "tags": []
          },
          "execution_count": 22
        }
      ]
    },
    {
      "cell_type": "code",
      "metadata": {
        "id": "m83jjMn7gdxq"
      },
      "source": [
        "X_train,X_test,y_train,y_test = train_test_split(X,y,test_size=0.3,random_state=1)"
      ],
      "execution_count": null,
      "outputs": []
    },
    {
      "cell_type": "code",
      "metadata": {
        "colab": {
          "base_uri": "https://localhost:8080/"
        },
        "id": "YQQgmnJAgdxq",
        "outputId": "cc1b5df4-2fe6-47c6-de41-2634d0894aac"
      },
      "source": [
        "X_train.shape"
      ],
      "execution_count": null,
      "outputs": [
        {
          "output_type": "execute_result",
          "data": {
            "text/plain": [
              "(35,)"
            ]
          },
          "metadata": {
            "tags": []
          },
          "execution_count": 24
        }
      ]
    },
    {
      "cell_type": "code",
      "metadata": {
        "id": "8Iv6o61tgdxr"
      },
      "source": [
        "model = tf.keras.Sequential([\n",
        "    tf.keras.layers.Dense(1, input_shape=(1,))\n",
        "])"
      ],
      "execution_count": null,
      "outputs": []
    },
    {
      "cell_type": "code",
      "metadata": {
        "id": "yO2fb8ZBgdxr"
      },
      "source": [
        "#model.compile(optimizer=tf.keras.optimizers.SGD(0.05), loss=\"mse\")\n",
        "model.compile(optimizer=\"sgd\", loss=\"mse\")"
      ],
      "execution_count": null,
      "outputs": []
    },
    {
      "cell_type": "code",
      "metadata": {
        "scrolled": false,
        "colab": {
          "base_uri": "https://localhost:8080/"
        },
        "id": "A5xwbrmCgdxr",
        "outputId": "9ea090c4-e0d2-496b-abac-a9ae5c9c3507"
      },
      "source": [
        "trained_model = model.fit(X_train,y_train,epochs=20)"
      ],
      "execution_count": null,
      "outputs": [
        {
          "output_type": "stream",
          "text": [
            "Epoch 1/20\n",
            "2/2 [==============================] - 0s 1ms/step - loss: 74585.8828\n",
            "Epoch 2/20\n",
            "2/2 [==============================] - 0s 2ms/step - loss: 69841.7734\n",
            "Epoch 3/20\n",
            "2/2 [==============================] - 0s 2ms/step - loss: 65873.5938\n",
            "Epoch 4/20\n",
            "2/2 [==============================] - 0s 2ms/step - loss: 61244.6992\n",
            "Epoch 5/20\n",
            "2/2 [==============================] - 0s 2ms/step - loss: 57019.5039\n",
            "Epoch 6/20\n",
            "2/2 [==============================] - 0s 1ms/step - loss: 52404.3125\n",
            "Epoch 7/20\n",
            "2/2 [==============================] - 0s 1ms/step - loss: 49300.3867\n",
            "Epoch 8/20\n",
            "2/2 [==============================] - 0s 3ms/step - loss: 44909.0430\n",
            "Epoch 9/20\n",
            "2/2 [==============================] - 0s 1ms/step - loss: 41871.2383\n",
            "Epoch 10/20\n",
            "2/2 [==============================] - 0s 2ms/step - loss: 39843.3008\n",
            "Epoch 11/20\n",
            "2/2 [==============================] - 0s 2ms/step - loss: 36324.5391\n",
            "Epoch 12/20\n",
            "2/2 [==============================] - 0s 2ms/step - loss: 32939.2305\n",
            "Epoch 13/20\n",
            "2/2 [==============================] - 0s 2ms/step - loss: 30692.0469\n",
            "Epoch 14/20\n",
            "2/2 [==============================] - 0s 1ms/step - loss: 29087.0898\n",
            "Epoch 15/20\n",
            "2/2 [==============================] - 0s 2ms/step - loss: 26592.0957\n",
            "Epoch 16/20\n",
            "2/2 [==============================] - 0s 2ms/step - loss: 24300.1992\n",
            "Epoch 17/20\n",
            "2/2 [==============================] - 0s 2ms/step - loss: 21876.2676\n",
            "Epoch 18/20\n",
            "2/2 [==============================] - 0s 1ms/step - loss: 20782.5312\n",
            "Epoch 19/20\n",
            "2/2 [==============================] - 0s 2ms/step - loss: 19903.7070\n",
            "Epoch 20/20\n",
            "2/2 [==============================] - 0s 3ms/step - loss: 19033.0625\n"
          ],
          "name": "stdout"
        }
      ]
    },
    {
      "cell_type": "code",
      "metadata": {
        "colab": {
          "base_uri": "https://localhost:8080/",
          "height": 282
        },
        "id": "uVDodJ8ggdxr",
        "outputId": "5cf41f5f-3c9e-42c0-a309-2c02a32ca411"
      },
      "source": [
        "plt.plot(trained_model.history['loss'])"
      ],
      "execution_count": null,
      "outputs": [
        {
          "output_type": "execute_result",
          "data": {
            "text/plain": [
              "[<matplotlib.lines.Line2D at 0x7f595c642198>]"
            ]
          },
          "metadata": {
            "tags": []
          },
          "execution_count": 31
        },
        {
          "output_type": "display_data",
          "data": {
            "image/png": "[encoded data removed]",
            "text/plain": [
              "<Figure size 432x288 with 1 Axes>"
            ]
          },
          "metadata": {
            "tags": [],
            "needs_background": "light"
          }
        }
      ]
    },
    {
      "cell_type": "code",
      "metadata": {
        "id": "gOVEm2Algdxs"
      },
      "source": [
        "y_pred = model.predict(X_test)"
      ],
      "execution_count": null,
      "outputs": []
    },
    {
      "cell_type": "code",
      "metadata": {
        "colab": {
          "base_uri": "https://localhost:8080/"
        },
        "id": "t2V6wOUGgdxs",
        "outputId": "f91abc38-3bf7-4b3e-8bea-cb539efa2302"
      },
      "source": [
        "y_pred"
      ],
      "execution_count": null,
      "outputs": [
        {
          "output_type": "execute_result",
          "data": {
            "text/plain": [
              "array([[144.58595 ],\n",
              "       [181.25551 ],\n",
              "       [204.17398 ],\n",
              "       [195.00659 ],\n",
              "       [ 29.993622],\n",
              "       [ 34.577316],\n",
              "       [240.84352 ],\n",
              "       [153.75334 ],\n",
              "       [231.67613 ],\n",
              "       [162.92073 ],\n",
              "       [167.50443 ],\n",
              "       [199.59027 ],\n",
              "       [117.0838  ],\n",
              "       [185.8392  ],\n",
              "       [107.91641 ]], dtype=float32)"
            ]
          },
          "metadata": {
            "tags": []
          },
          "execution_count": 33
        }
      ]
    },
    {
      "cell_type": "code",
      "metadata": {
        "id": "XN60baVTtWhF"
      },
      "source": [
        ""
      ],
      "execution_count": null,
      "outputs": []
    }
  ]
}