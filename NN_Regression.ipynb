{
  "nbformat": 4,
  "nbformat_minor": 0,
  "metadata": {
    "kernelspec": {
      "display_name": "Python 3",
      "language": "python",
      "name": "python3"
    },
    "language_info": {
      "codemirror_mode": {
        "name": "ipython",
        "version": 3
      },
      "file_extension": ".py",
      "mimetype": "text/x-python",
      "name": "python",
      "nbconvert_exporter": "python",
      "pygments_lexer": "ipython3",
      "version": "3.7.4"
    },
    "colab": {
      "name": "NN Regression.ipynb",
      "provenance": []
    }
  },
  "cells": [
    {
      "cell_type": "code",
      "metadata": {
        "id": "g42T8tIn57aa"
      },
      "source": [
        "import pandas as pd\n",
        "import numpy as np\n",
        "import matplotlib.pyplot as plt\n",
        "import tensorflow as tf\n",
        "\n",
        "from sklearn.model_selection import train_test_split\n",
        "from sklearn.preprocessing import StandardScaler"
      ],
      "execution_count": null,
      "outputs": []
    },
    {
      "cell_type": "code",
      "metadata": {
        "id": "yFMp7OslHt6U"
      },
      "source": [
        "df = pd.read_csv(\"advertising.csv\")"
      ],
      "execution_count": null,
      "outputs": []
    },
    {
      "cell_type": "code",
      "metadata": {
        "id": "33RQaKMk57ab"
      },
      "source": [
        "df.head()"
      ],
      "execution_count": null,
      "outputs": []
    },
    {
      "cell_type": "code",
      "metadata": {
        "id": "L8nKagel57ae"
      },
      "source": [
        "df.drop(\"Unnamed: 0\",axis=1,inplace=True)"
      ],
      "execution_count": null,
      "outputs": []
    },
    {
      "cell_type": "code",
      "metadata": {
        "id": "ueUlOPd557ae"
      },
      "source": [
        "y = df[\"sales\"]\n",
        "X = df.drop(\"sales\",axis=1)"
      ],
      "execution_count": null,
      "outputs": []
    },
    {
      "cell_type": "code",
      "metadata": {
        "id": "ros7Mi2Q57af"
      },
      "source": [
        "X_train,X_test,y_train,y_test = train_test_split(X,y,test_size=0.3,random_state=1)"
      ],
      "execution_count": null,
      "outputs": []
    },
    {
      "cell_type": "code",
      "metadata": {
        "id": "IbhKZsol57ag"
      },
      "source": [
        "# Scaling data"
      ],
      "execution_count": null,
      "outputs": []
    },
    {
      "cell_type": "code",
      "metadata": {
        "id": "jgQ2WWrz57ag"
      },
      "source": [
        "ss = StandardScaler()"
      ],
      "execution_count": null,
      "outputs": []
    },
    {
      "cell_type": "code",
      "metadata": {
        "id": "h-pXxSjR57ag"
      },
      "source": [
        "X_train_ss = ss.fit_transform(X_train)"
      ],
      "execution_count": null,
      "outputs": []
    },
    {
      "cell_type": "code",
      "metadata": {
        "id": "J70Pe-wA57ag"
      },
      "source": [
        "X_test_ss = ss.transform(X_test)"
      ],
      "execution_count": null,
      "outputs": []
    },
    {
      "cell_type": "code",
      "metadata": {
        "id": "8I5n5g1E57ag"
      },
      "source": [
        "# Neural Network"
      ],
      "execution_count": null,
      "outputs": []
    },
    {
      "cell_type": "code",
      "metadata": {
        "id": "TN4EQ3P_57ah"
      },
      "source": [
        "model = tf.keras.Sequential([\n",
        "    \n",
        "    tf.keras.layers.Dense(2, activation=\"relu\", input_shape=(X.shape[1],)),\n",
        "    tf.keras.layers.Dense(3, activation=\"relu\"),\n",
        "    tf.keras.layers.Dense(1)\n",
        "    \n",
        "])"
      ],
      "execution_count": null,
      "outputs": []
    },
    {
      "cell_type": "code",
      "metadata": {
        "id": "BlPUC11057ah",
        "outputId": "e41e1dc5-828a-4308-aacf-6a4167bca7bd"
      },
      "source": [
        "model.summary()"
      ],
      "execution_count": null,
      "outputs": [
        {
          "output_type": "stream",
          "text": [
            "Model: \"sequential\"\n",
            "_________________________________________________________________\n",
            "Layer (type)                 Output Shape              Param #   \n",
            "=================================================================\n",
            "dense (Dense)                (None, 2)                 8         \n",
            "_________________________________________________________________\n",
            "dense_1 (Dense)              (None, 3)                 9         \n",
            "_________________________________________________________________\n",
            "dense_2 (Dense)              (None, 1)                 4         \n",
            "=================================================================\n",
            "Total params: 21\n",
            "Trainable params: 21\n",
            "Non-trainable params: 0\n",
            "_________________________________________________________________\n"
          ],
          "name": "stdout"
        }
      ]
    },
    {
      "cell_type": "code",
      "metadata": {
        "id": "--oudG7057ah"
      },
      "source": [
        "model.compile(optimizer=\"sgd\", loss=\"mse\")"
      ],
      "execution_count": null,
      "outputs": []
    },
    {
      "cell_type": "code",
      "metadata": {
        "scrolled": false,
        "id": "_bFRJPBS57ah",
        "outputId": "f406b502-5f63-4127-fbde-f9937b18fb13"
      },
      "source": [
        "trained_model = model.fit(X_train_ss, y_train, epochs=50)"
      ],
      "execution_count": null,
      "outputs": [
        {
          "output_type": "stream",
          "text": [
            "Train on 140 samples\n",
            "Epoch 1/50\n",
            "140/140 [==============================] - 0s 2ms/sample - loss: 149.9138\n",
            "Epoch 2/50\n",
            "140/140 [==============================] - 0s 132us/sample - loss: 27.0958\n",
            "Epoch 3/50\n",
            "140/140 [==============================] - 0s 138us/sample - loss: 8.1577\n",
            "Epoch 4/50\n",
            "140/140 [==============================] - 0s 159us/sample - loss: 6.2688\n",
            "Epoch 5/50\n",
            "140/140 [==============================] - 0s 242us/sample - loss: 5.2528\n",
            "Epoch 6/50\n",
            "140/140 [==============================] - 0s 187us/sample - loss: 5.2936\n",
            "Epoch 7/50\n",
            "140/140 [==============================] - 0s 173us/sample - loss: 4.4484\n",
            "Epoch 8/50\n",
            "140/140 [==============================] - 0s 142us/sample - loss: 5.8327\n",
            "Epoch 9/50\n",
            "140/140 [==============================] - 0s 178us/sample - loss: 3.3541\n",
            "Epoch 10/50\n",
            "140/140 [==============================] - 0s 128us/sample - loss: 2.9631\n",
            "Epoch 11/50\n",
            "140/140 [==============================] - 0s 210us/sample - loss: 3.1261\n",
            "Epoch 12/50\n",
            "140/140 [==============================] - 0s 217us/sample - loss: 2.7520\n",
            "Epoch 13/50\n",
            "140/140 [==============================] - 0s 209us/sample - loss: 2.7644\n",
            "Epoch 14/50\n",
            "140/140 [==============================] - 0s 113us/sample - loss: 2.6573\n",
            "Epoch 15/50\n",
            "140/140 [==============================] - 0s 231us/sample - loss: 2.6506\n",
            "Epoch 16/50\n",
            "140/140 [==============================] - 0s 95us/sample - loss: 2.8028\n",
            "Epoch 17/50\n",
            "140/140 [==============================] - 0s 140us/sample - loss: 2.6538\n",
            "Epoch 18/50\n",
            "140/140 [==============================] - 0s 169us/sample - loss: 2.5139\n",
            "Epoch 19/50\n",
            "140/140 [==============================] - 0s 143us/sample - loss: 2.4693\n",
            "Epoch 20/50\n",
            "140/140 [==============================] - 0s 185us/sample - loss: 2.8219\n",
            "Epoch 21/50\n",
            "140/140 [==============================] - 0s 122us/sample - loss: 2.4609\n",
            "Epoch 22/50\n",
            "140/140 [==============================] - 0s 211us/sample - loss: 2.4362\n",
            "Epoch 23/50\n",
            "140/140 [==============================] - 0s 176us/sample - loss: 2.3948\n",
            "Epoch 24/50\n",
            "140/140 [==============================] - 0s 147us/sample - loss: 2.4931\n",
            "Epoch 25/50\n",
            "140/140 [==============================] - 0s 182us/sample - loss: 2.3676\n",
            "Epoch 26/50\n",
            "140/140 [==============================] - 0s 324us/sample - loss: 2.5136\n",
            "Epoch 27/50\n",
            "140/140 [==============================] - 0s 132us/sample - loss: 2.5572\n",
            "Epoch 28/50\n",
            "140/140 [==============================] - 0s 162us/sample - loss: 2.2278\n",
            "Epoch 29/50\n",
            "140/140 [==============================] - 0s 100us/sample - loss: 2.2577\n",
            "Epoch 30/50\n",
            "140/140 [==============================] - 0s 232us/sample - loss: 2.9579\n",
            "Epoch 31/50\n",
            "140/140 [==============================] - 0s 157us/sample - loss: 2.4476\n",
            "Epoch 32/50\n",
            "140/140 [==============================] - 0s 162us/sample - loss: 2.4750\n",
            "Epoch 33/50\n",
            "140/140 [==============================] - 0s 194us/sample - loss: 2.2440\n",
            "Epoch 34/50\n",
            "140/140 [==============================] - 0s 163us/sample - loss: 2.4226\n",
            "Epoch 35/50\n",
            "140/140 [==============================] - 0s 126us/sample - loss: 2.2870\n",
            "Epoch 36/50\n",
            "140/140 [==============================] - 0s 198us/sample - loss: 2.2861\n",
            "Epoch 37/50\n",
            "140/140 [==============================] - 0s 146us/sample - loss: 2.6637\n",
            "Epoch 38/50\n",
            "140/140 [==============================] - 0s 138us/sample - loss: 2.2312\n",
            "Epoch 39/50\n",
            "140/140 [==============================] - 0s 171us/sample - loss: 2.2523\n",
            "Epoch 40/50\n",
            "140/140 [==============================] - 0s 115us/sample - loss: 2.1605\n",
            "Epoch 41/50\n",
            "140/140 [==============================] - 0s 115us/sample - loss: 2.4400\n",
            "Epoch 42/50\n",
            "140/140 [==============================] - 0s 112us/sample - loss: 2.7664\n",
            "Epoch 43/50\n",
            "140/140 [==============================] - 0s 114us/sample - loss: 2.1776\n",
            "Epoch 44/50\n",
            "140/140 [==============================] - 0s 170us/sample - loss: 2.0455\n",
            "Epoch 45/50\n",
            "140/140 [==============================] - 0s 97us/sample - loss: 2.1347\n",
            "Epoch 46/50\n",
            "140/140 [==============================] - 0s 142us/sample - loss: 2.2540\n",
            "Epoch 47/50\n",
            "140/140 [==============================] - 0s 96us/sample - loss: 2.2242\n",
            "Epoch 48/50\n",
            "140/140 [==============================] - 0s 89us/sample - loss: 2.1693\n",
            "Epoch 49/50\n",
            "140/140 [==============================] - 0s 125us/sample - loss: 2.2176\n",
            "Epoch 50/50\n",
            "140/140 [==============================] - 0s 71us/sample - loss: 2.0541\n"
          ],
          "name": "stdout"
        }
      ]
    },
    {
      "cell_type": "code",
      "metadata": {
        "id": "sGPJbTKS57ai",
        "outputId": "203fa0d1-2e85-48f3-87bd-12438f4eaf7b"
      },
      "source": [
        "plt.plot(trained_model.history[\"loss\"])"
      ],
      "execution_count": null,
      "outputs": [
        {
          "output_type": "execute_result",
          "data": {
            "text/plain": [
              "[<matplotlib.lines.Line2D at 0x7f47e0236b90>]"
            ]
          },
          "metadata": {
            "tags": []
          },
          "execution_count": 19
        },
        {
          "output_type": "display_data",
          "data": {
            "image/png": "[encoded data removed]",
            "text/plain": [
              "<Figure size 432x288 with 1 Axes>"
            ]
          },
          "metadata": {
            "tags": [],
            "needs_background": "light"
          }
        }
      ]
    },
    {
      "cell_type": "code",
      "metadata": {
        "id": "eQ8fhmkd57ai"
      },
      "source": [
        "# Testing"
      ],
      "execution_count": null,
      "outputs": []
    },
    {
      "cell_type": "code",
      "metadata": {
        "id": "234fVfZw57ai"
      },
      "source": [
        "y_pred = model.predict(X_test_ss)"
      ],
      "execution_count": null,
      "outputs": []
    },
    {
      "cell_type": "code",
      "metadata": {
        "id": "U1-9aHA057ai"
      },
      "source": [
        "from sklearn.metrics import r2_score"
      ],
      "execution_count": null,
      "outputs": []
    },
    {
      "cell_type": "code",
      "metadata": {
        "id": "4Zln02n257ai",
        "outputId": "d230729e-d922-4f35-c50e-ad8cc0637dd4"
      },
      "source": [
        "r2_score(y_test,y_pred)"
      ],
      "execution_count": null,
      "outputs": [
        {
          "output_type": "execute_result",
          "data": {
            "text/plain": [
              "0.9508852615065774"
            ]
          },
          "metadata": {
            "tags": []
          },
          "execution_count": 23
        }
      ]
    },
    {
      "cell_type": "code",
      "metadata": {
        "id": "ydVUd_i_57aj"
      },
      "source": [
        ""
      ],
      "execution_count": null,
      "outputs": []
    }
  ]
}